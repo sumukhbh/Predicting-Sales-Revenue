{
 "cells": [
  {
   "cell_type": "markdown",
   "metadata": {},
   "source": [
    "# Predicting Sales Revenue \n",
    "\n",
    "In this project we are going to use linear regression to predict sales revenue based on advertising spending through media such as TV, Radio and Newspaper."
   ]
  },
  {
   "cell_type": "markdown",
   "metadata": {},
   "source": [
    "## Data Source\n",
    "\n",
    "Collecting data takes significant amount of time and energy. So we must always try to find relevant existing dataset. Luckily, there is a dataset available on Kaggle that suits our purpose.\n",
    "\n",
    "[A dataset](https://www.kaggle.com/ishaanv/ISLR-Auto#Advertising.csv) containing statistics about the sale of the products in 200 different markets, together with advertising budgets in each of these markets for different media channels: TV, radio and newspaper."
   ]
  },
  {
   "cell_type": "markdown",
   "metadata": {},
   "source": [
    "## Exploring Dataset\n",
    "\n",
    "Let's start by reading the dataset to a pandas dataframe."
   ]
  },
  {
   "cell_type": "code",
   "execution_count": 2,
   "metadata": {},
   "outputs": [],
   "source": [
    "# Importing libraries #\n",
    "%matplotlib inline\n",
    "import pandas as pd\n",
    "import numpy as np\n",
    "import seaborn as sns\n",
    "import matplotlib.pyplot as plt\n",
    "from scipy.stats import skew\n"
   ]
  },
  {
   "cell_type": "code",
   "execution_count": 3,
   "metadata": {},
   "outputs": [],
   "source": [
    "plt.style.use(\"ggplot\")\n",
    "plt.rcParams['figure.figsize'] = (12, 8)"
   ]
  },
  {
   "cell_type": "code",
   "execution_count": 4,
   "metadata": {},
   "outputs": [
    {
     "data": {
      "text/html": [
       "<div>\n",
       "<style scoped>\n",
       "    .dataframe tbody tr th:only-of-type {\n",
       "        vertical-align: middle;\n",
       "    }\n",
       "\n",
       "    .dataframe tbody tr th {\n",
       "        vertical-align: top;\n",
       "    }\n",
       "\n",
       "    .dataframe thead th {\n",
       "        text-align: right;\n",
       "    }\n",
       "</style>\n",
       "<table border=\"1\" class=\"dataframe\">\n",
       "  <thead>\n",
       "    <tr style=\"text-align: right;\">\n",
       "      <th></th>\n",
       "      <th>Unnamed: 0</th>\n",
       "      <th>TV</th>\n",
       "      <th>Radio</th>\n",
       "      <th>Newspaper</th>\n",
       "      <th>Sales</th>\n",
       "    </tr>\n",
       "  </thead>\n",
       "  <tbody>\n",
       "    <tr>\n",
       "      <th>0</th>\n",
       "      <td>1</td>\n",
       "      <td>230.1</td>\n",
       "      <td>37.8</td>\n",
       "      <td>69.2</td>\n",
       "      <td>22.1</td>\n",
       "    </tr>\n",
       "    <tr>\n",
       "      <th>1</th>\n",
       "      <td>2</td>\n",
       "      <td>44.5</td>\n",
       "      <td>39.3</td>\n",
       "      <td>45.1</td>\n",
       "      <td>10.4</td>\n",
       "    </tr>\n",
       "    <tr>\n",
       "      <th>2</th>\n",
       "      <td>3</td>\n",
       "      <td>17.2</td>\n",
       "      <td>45.9</td>\n",
       "      <td>69.3</td>\n",
       "      <td>9.3</td>\n",
       "    </tr>\n",
       "    <tr>\n",
       "      <th>3</th>\n",
       "      <td>4</td>\n",
       "      <td>151.5</td>\n",
       "      <td>41.3</td>\n",
       "      <td>58.5</td>\n",
       "      <td>18.5</td>\n",
       "    </tr>\n",
       "    <tr>\n",
       "      <th>4</th>\n",
       "      <td>5</td>\n",
       "      <td>180.8</td>\n",
       "      <td>10.8</td>\n",
       "      <td>58.4</td>\n",
       "      <td>12.9</td>\n",
       "    </tr>\n",
       "  </tbody>\n",
       "</table>\n",
       "</div>"
      ],
      "text/plain": [
       "   Unnamed: 0     TV  Radio  Newspaper  Sales\n",
       "0           1  230.1   37.8       69.2   22.1\n",
       "1           2   44.5   39.3       45.1   10.4\n",
       "2           3   17.2   45.9       69.3    9.3\n",
       "3           4  151.5   41.3       58.5   18.5\n",
       "4           5  180.8   10.8       58.4   12.9"
      ]
     },
     "execution_count": 4,
     "metadata": {},
     "output_type": "execute_result"
    }
   ],
   "source": [
    "advertising_df = pd.read_csv(\"Advertising.csv\")\n",
    "advertising_df.head()"
   ]
  },
  {
   "cell_type": "code",
   "execution_count": 18,
   "metadata": {},
   "outputs": [
    {
     "name": "stdout",
     "output_type": "stream",
     "text": [
      "<class 'pandas.core.frame.DataFrame'>\n",
      "RangeIndex: 200 entries, 0 to 199\n",
      "Data columns (total 5 columns):\n",
      " #   Column      Non-Null Count  Dtype  \n",
      "---  ------      --------------  -----  \n",
      " 0   Unnamed: 0  200 non-null    int64  \n",
      " 1   TV          200 non-null    float64\n",
      " 2   Radio       200 non-null    float64\n",
      " 3   Newspaper   200 non-null    float64\n",
      " 4   Sales       200 non-null    float64\n",
      "dtypes: float64(4), int64(1)\n",
      "memory usage: 7.9 KB\n"
     ]
    }
   ],
   "source": [
    "advertising_df.info()"
   ]
  },
  {
   "cell_type": "markdown",
   "metadata": {},
   "source": [
    "## Relationship between features and target variable \n",
    "\n",
    "Let's explore how TV, radio and newspaper advertising influences sales revenue using seaborn's pairplot function."
   ]
  },
  {
   "cell_type": "code",
   "execution_count": 10,
   "metadata": {},
   "outputs": [
    {
     "data": {
      "text/plain": [
       "<seaborn.axisgrid.PairGrid at 0x293245d71c8>"
      ]
     },
     "execution_count": 10,
     "metadata": {},
     "output_type": "execute_result"
    },
    {
     "data": {
      "image/png": "[encoded data removed]",
      "text/plain": [
       "<Figure size 1058.4x504 with 3 Axes>"
      ]
     },
     "metadata": {},
     "output_type": "display_data"
    }
   ],
   "source": [
    "sns.pairplot(advertising_df, x_vars=[\"TV\", \"Radio\", \"Newspaper\"], y_vars='Sales', height=7,aspect=0.7)"
   ]
  },
  {
   "cell_type": "markdown",
   "metadata": {},
   "source": [
    "It looks like TV advertising has a linear relationship with sales compared to the other two advertising media."
   ]
  },
  {
   "cell_type": "markdown",
   "metadata": {},
   "source": [
    "## Multivariate Linear Regression\n",
    "\n",
    "Let's build a linear regression model using all the three features to estimate the coefficients."
   ]
  },
  {
   "cell_type": "code",
   "execution_count": 15,
   "metadata": {},
   "outputs": [
    {
     "name": "stdout",
     "output_type": "stream",
     "text": [
      "2.9388893694594085\n",
      "[ 0.04576465  0.18853002 -0.00103749]\n"
     ]
    }
   ],
   "source": [
    "# Importing scikit-learn #\n",
    "from sklearn.linear_model import LinearRegression\n",
    "\n",
    "# Creating a feature matrix #\n",
    "features_list = ['TV', 'Radio', 'Newspaper']\n",
    "X = advertising_df[features_list]\n",
    "#print(X)\n",
    "\n",
    "# Target variable is the sales column #\n",
    "y = advertising_df['Sales']\n",
    "\n",
    "# create a instance of LinearRegression #\n",
    "model1 = LinearRegression()\n",
    "model1.fit(X,y)\n",
    "\n",
    "# printing out the coefficients #\n",
    "print(model1.intercept_)\n",
    "print(model1.coef_)\n"
   ]
  },
  {
   "cell_type": "code",
   "execution_count": 18,
   "metadata": {},
   "outputs": [
    {
     "name": "stdout",
     "output_type": "stream",
     "text": [
      "[('TV', 0.045764645455397615), ('Radio', 0.18853001691820456), ('Newspaper', -0.0010374930424763272)]\n"
     ]
    }
   ],
   "source": [
    "# Let's map the feature names to their coefficients #\n",
    "print(list(zip(features_list, model1.coef_)))"
   ]
  },
  {
   "cell_type": "markdown",
   "metadata": {},
   "source": [
    "From the above coefficient values, it looks like there is no correlation between sales and advertising. Let's draw a heat map of the correlation matrix to understand this better.|"
   ]
  },
  {
   "cell_type": "code",
   "execution_count": 19,
   "metadata": {},
   "outputs": [
    {
     "data": {
      "text/plain": [
       "<matplotlib.axes._subplots.AxesSubplot at 0x2932510ef08>"
      ]
     },
     "execution_count": 19,
     "metadata": {},
     "output_type": "execute_result"
    },
    {
     "data": {
      "image/png": "[encoded data removed]",
      "text/plain": [
       "<Figure size 864x576 with 2 Axes>"
      ]
     },
     "metadata": {},
     "output_type": "display_data"
    }
   ],
   "source": [
    "# creating a heat map #\n",
    "\n",
    "sns.heatmap(advertising_df.corr(), annot=True)"
   ]
  },
  {
   "cell_type": "markdown",
   "metadata": {},
   "source": [
    "We can notice that the correlation between radio and newspaper is 0.35. This reveals a tendency to spend more on newspaper advertising in markets where more amount in spent in radio advertising. Let's assume that the above linear regression model is correct and the newspaper advertising revenue has no direct impact on the sales but increase in the amount spent on radio advertising increases the sales and with this assumption in mind, we will do feature selection to decide what features to include in our model."
   ]
  },
  {
   "cell_type": "markdown",
   "metadata": {},
   "source": [
    "## Feature selection\n",
    "\n",
    "When we peform multiple linear regression, An important question to consider is whether one of my feature is sufficient to make predictions or do i need a subset of features. It is possible that all the features are required for making accurate predictions. This process of selecting the appropriate features for making predictions is called feature selection. Ideally, we build multiple models with different subset of features and consider the one that best fits our data. We use a metric to determine the quality of the model and in this case we will use r2_score."
   ]
  },
  {
   "cell_type": "code",
   "execution_count": 20,
   "metadata": {},
   "outputs": [],
   "source": [
    "# Let's build a regression model using two features TV and Radio #\n",
    "\n",
    "from sklearn.metrics import r2_score\n",
    "model_2 = LinearRegression()\n",
    "model_2.fit(X[['TV', 'Radio']],y)\n",
    "\n",
    "# model prediction #\n",
    "model_2_pred = model_2.predict(X[['TV', 'Radio']])\n"
   ]
  },
  {
   "cell_type": "code",
   "execution_count": null,
   "metadata": {},
   "outputs": [],
   "source": [
    "# Let's compute the R2_Score #\n",
    "\n",
    "print(\"R2_Score : \", r2_score(y,model_2_pred))"
   ]
  },
  {
   "cell_type": "code",
   "execution_count": 24,
   "metadata": {},
   "outputs": [],
   "source": [
    "#  Another Model with all the three features #\n",
    "\n",
    "model_3 = LinearRegression()\n",
    "model_3.fit(X[['TV', 'Radio', 'Newspaper']],y)\n",
    "\n",
    "# model prediciton #\n",
    "model_3_pred = model_3.predict(X[['TV', 'Radio', 'Newspaper']])"
   ]
  },
  {
   "cell_type": "code",
   "execution_count": 27,
   "metadata": {},
   "outputs": [
    {
     "name": "stdout",
     "output_type": "stream",
     "text": [
      "R2_Score :  0.8972106381789522\n"
     ]
    }
   ],
   "source": [
    "# Computing R2_Score #\n",
    "\n",
    "print(\"R2_Score : \", r2_score(y,model_3_pred))"
   ]
  },
  {
   "cell_type": "markdown",
   "metadata": {},
   "source": [
    "Based on the R2_Score calculation, we can observe the model that included all the features has a higher r2_score compared to the one with only TV and Radio as features. A high R2_Score explains a large portion of variance in the target variable that is sales.There is a small increase in R2_Score if newspaper is added to the feature matrix. This discrepancy in R2_scores is due to the fact that adding another feature variable to the least squares equation must allow us to fit the data more accurately which means that R2_Score must increase. This provides an additional evidence that we can drop newspaper from feature matrix. Essentially, the newspaper feature does not improve the model performance and including it in the feature matrix will result in poor predictions on test data due to overfitting."
   ]
  },
  {
   "cell_type": "markdown",
   "metadata": {},
   "source": [
    "## Model Evaluation using Train/Test Split and Metrics\n",
    "\n",
    "Let's split the entire dataset into training and testing data. Next we are going to train the model on the training data and use it for making predictions on test data. We are going to evaluate models by calculating RMSE(Root Mean Squared Error). RMSE is a better metric because it amplifies and punishes large errors. Smaller RMSE, better model performance."
   ]
  },
  {
   "cell_type": "code",
   "execution_count": 28,
   "metadata": {},
   "outputs": [],
   "source": [
    "# Let's use train/test split with RMSE to see whether newspaper should be kept in the model #\n",
    "from sklearn.metrics import mean_squared_error\n",
    "from sklearn.model_selection import train_test_split\n",
    "\n",
    "X= advertising_df[['TV','Radio', 'Newspaper']]\n",
    "y = advertising_df['Sales']\n",
    "\n",
    "X_train,X_test,y_train,y_test = train_test_split(X,y,random_state = 1)\n",
    "\n",
    "# Training model on training data #\n",
    "model_4 = LinearRegression()\n",
    "model_4.fit(X_train,y_train)\n",
    "\n",
    "# Using model to make predictions on test data #\n",
    "model_4_pred = model_4.predict(X_test)"
   ]
  },
  {
   "cell_type": "code",
   "execution_count": 31,
   "metadata": {},
   "outputs": [
    {
     "name": "stdout",
     "output_type": "stream",
     "text": [
      "RMSE value :   1.404651423032895\n",
      "R2_Score :  0.9156213613792232\n"
     ]
    }
   ],
   "source": [
    "# Calculating RMSE and R2_Score Values #\n",
    "\n",
    "print(\"RMSE value :  \", np.sqrt(mean_squared_error(y_test,model_4_pred)))\n",
    "print(\"R2_Score : \", r2_score(y_test,model_4_pred))"
   ]
  },
  {
   "cell_type": "code",
   "execution_count": 34,
   "metadata": {},
   "outputs": [],
   "source": [
    "# Model without  including Newspaper #\n",
    "\n",
    "X = advertising_df[['TV', 'Radio']]\n",
    "y = advertising_df['Sales']\n",
    "\n",
    "X_train, X_test, y_train, y_test = train_test_split(X,y,random_state=1)\n",
    "\n",
    "# Training Model on training data #\n",
    "model_5 = LinearRegression()\n",
    "model_5.fit(X_train,y_train)\n",
    "\n",
    "# Using model to make predictions on test data #\n",
    "model_5_pred = model_5.predict(X_test)\n"
   ]
  },
  {
   "cell_type": "code",
   "execution_count": 36,
   "metadata": {},
   "outputs": [
    {
     "name": "stdout",
     "output_type": "stream",
     "text": [
      "RMSE value :   1.3879034699382886\n",
      "R2_Score value :   0.9176214942248908\n"
     ]
    }
   ],
   "source": [
    "# Calculating RMSE and R2_Score Values #\n",
    "\n",
    "print(\"RMSE value :  \", np.sqrt(mean_squared_error(y_test,model_5_pred)))\n",
    "print(\"R2_Score value :  \", r2_score(y_test,model_5_pred))"
   ]
  },
  {
   "cell_type": "markdown",
   "metadata": {},
   "source": [
    "We can see that RMSE value reduced for the model without newspaper. To get more intution, we can visualize the results using yellowbricks, a machine learning visualization library"
   ]
  },
  {
   "cell_type": "code",
   "execution_count": null,
   "metadata": {},
   "outputs": [],
   "source": []
  }
 ],
 "metadata": {
  "kernelspec": {
   "display_name": "Python 3",
   "language": "python",
   "name": "python3"
  },
  "language_info": {
   "codemirror_mode": {
    "name": "ipython",
    "version": 3
   },
   "file_extension": ".py",
   "mimetype": "text/x-python",
   "name": "python",
   "nbconvert_exporter": "python",
   "pygments_lexer": "ipython3",
   "version": "3.7.6"
  }
 },
 "nbformat": 4,
 "nbformat_minor": 4
}
