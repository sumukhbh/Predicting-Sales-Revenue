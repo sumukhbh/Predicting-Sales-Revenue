{
 "cells": [
  {
   "cell_type": "markdown",
   "metadata": {},
   "source": [
    "# Predicting Sales Revenue \n",
    "\n",
    "In this project we are going to use linear regression to predict sales revenue based on advertising spending through media such as TV, Radio and Newspaper."
   ]
  },
  {
   "cell_type": "markdown",
   "metadata": {},
   "source": [
    "## Dataset\n",
    "\n",
    "Collecting data takes significant amount of time and energy. So we must always try to find relevant existing dataset. Luckily, there is a dataset available on Kaggle that suits our purpose.\n",
    "\n",
    "[A dataset](https://www.kaggle.com/ishaanv/ISLR-Auto#Advertising.csv) containing statistics about the sale of the products in 200 different markets, together with advertising budgets in each of these markets for different media channels: TV, radio and newspaper."
   ]
  },
  {
   "cell_type": "code",
   "execution_count": null,
   "metadata": {},
   "outputs": [],
   "source": []
  }
 ],
 "metadata": {
  "kernelspec": {
   "display_name": "Python 3",
   "language": "python",
   "name": "python3"
  },
  "language_info": {
   "codemirror_mode": {
    "name": "ipython",
    "version": 3
   },
   "file_extension": ".py",
   "mimetype": "text/x-python",
   "name": "python",
   "nbconvert_exporter": "python",
   "pygments_lexer": "ipython3",
   "version": "3.7.6"
  }
 },
 "nbformat": 4,
 "nbformat_minor": 4
}
